{
 "cells": [
  {
   "cell_type": "markdown",
   "metadata": {},
   "source": [
    "# Imports"
   ]
  },
  {
   "cell_type": "code",
   "execution_count": 21,
   "metadata": {},
   "outputs": [],
   "source": [
    "import flopy\n",
    "import numpy as np\n",
    "import matplotlib.pyplot as plt\n",
    "import pandas as pd"
   ]
  },
  {
   "cell_type": "markdown",
   "metadata": {},
   "source": [
    "# Define Default Model Params "
   ]
  },
  {
   "cell_type": "code",
   "execution_count": 22,
   "metadata": {},
   "outputs": [
    {
     "name": "stdout",
     "output_type": "stream",
     "text": [
      "Model setup complete. Input files are written to ./modflow_model\n"
     ]
    }
   ],
   "source": [
    "# 1. Model parameters\n",
    "modelname = 'groundwater_model'\n",
    "workspace = './modflow_model'  # Directory to store model files\n",
    "mf_version = 'mf2005'  # MODFLOW version to use\n",
    "exe_name = r'C:\\Users\\ATREE\\Code\\MODFLOW\\MF2005.1_12\\bin\\mf2005.exe'\n",
    "\n",
    "# Create the MODFLOW model object\n",
    "mf = flopy.modflow.Modflow(modelname, exe_name=exe_name, version=mf_version, model_ws=workspace)\n",
    "\n",
    "# 2. Define the Spatial extent and discretization\n",
    "nlay = 1  # Number of layers\n",
    "nrow = 10  # Number of rows\n",
    "ncol = 10  # Number of columns\n",
    "delr = 10  # Cell width along rows (in meters)\n",
    "delc = 10  # Cell width along columns (in meters)\n",
    "top = 500  # Top elevation of the model layer (in meters)\n",
    "botm = 250  # Bottom elevation of the model layer (in meters)\n",
    "\n",
    "# 3. Define Time parameters\n",
    "nper = 1  # Number of stress periods\n",
    "perlen = [1]  # Length of stress periods (days)\n",
    "nstp = [1]  # Number of time steps in each stress period\n",
    "steady = [True]  # Steady-state or transient simulation\n",
    "\n",
    "# Create the discretization object\n",
    "dis = flopy.modflow.ModflowDis(mf, nlay, nrow, ncol, delr=delr, delc=delc, top=top, botm=botm, \n",
    "                               nper=nper, perlen=perlen, nstp=nstp, steady=steady)\n",
    "\n",
    "# 4. Define Hydraulic properties\n",
    "hk = 1e-5  # Hydraulic conductivity (m/s)\n",
    "sy = 0.15  # Specific yield\n",
    "ss = 1e-5  # Specific storage\n",
    "\n",
    "# Create the layer property flow package\n",
    "lpf = flopy.modflow.ModflowLpf(mf, hk=hk, sy=sy, ss=ss)\n",
    "\n",
    "# Save the model\n",
    "mf.write_input()\n",
    "\n",
    "# Print a message\n",
    "print(\"Model setup complete. Input files are written to\", workspace)"
   ]
  },
  {
   "cell_type": "markdown",
   "metadata": {},
   "source": [
    "# Boundary conditions and Sources/Sinks"
   ]
  },
  {
   "cell_type": "code",
   "execution_count": 23,
   "metadata": {},
   "outputs": [
    {
     "name": "stdout",
     "output_type": "stream",
     "text": [
      "Boundary conditions and sources/sinks added. Model updated.\n"
     ]
    }
   ],
   "source": [
    "# 5. Define boundary conditions \n",
    "# FloPy by default assumes no flow boundaries and constant head\n",
    "\n",
    "# 6. Define Sources/Sinks: Adding a Recharge Package\n",
    "rch_rate = 1e-4  # Recharge rate in meters per day (example value)\n",
    "rch = flopy.modflow.ModflowRch(mf, rech=rch_rate)  # Create recharge package\n",
    "\n",
    "# Save the model with the new packages added\n",
    "mf.write_input()\n",
    "\n",
    "# Print a message\n",
    "print(\"Boundary conditions and sources/sinks added. Model updated.\")"
   ]
  },
  {
   "cell_type": "markdown",
   "metadata": {},
   "source": [
    "# River Params"
   ]
  },
  {
   "cell_type": "code",
   "execution_count": 24,
   "metadata": {},
   "outputs": [
    {
     "name": "stdout",
     "output_type": "stream",
     "text": [
      "River package added. Model updated.\n",
      "Initial conditions added. Model updated.\n"
     ]
    }
   ],
   "source": [
    "# Assuming you have already created a MODFLOW model object 'mf'\n",
    "\n",
    "# Define river parameters\n",
    "# For simplicity, let's assume a single river cell at point A\n",
    "river_stage = 305  # Stage (elevation) of the river (in meters)\n",
    "river_cond = 1e-1  # Conductance of the river bed (in meters squared per day)\n",
    "river_rbot = 300  # Bottom elevation of the river (in meters)\n",
    "\n",
    "# Create a list of river cells\n",
    "# (layer, row, column, stage, conductance, river bottom)\n",
    "river_cells = [(0, 5, 5, river_stage, river_cond, river_rbot)]  # Example location\n",
    "\n",
    "# Create the river package\n",
    "riv = flopy.modflow.ModflowRiv(mf, stress_period_data={0: river_cells})\n",
    "\n",
    "# Save the model\n",
    "mf.write_input()\n",
    "\n",
    "# Print a message\n",
    "print(\"River package added. Model updated.\")\n",
    "\n",
    "initial_head = 400  # This value should be adjusted based on your knowledge of the area\n",
    "bas = flopy.modflow.ModflowBas(mf, ibound=1, strt=initial_head)  # Create the basic package\n",
    "\n",
    "# Save the model\n",
    "mf.write_input()\n",
    "\n",
    "# Print a message\n",
    "print(\"Initial conditions added. Model updated.\")"
   ]
  },
  {
   "cell_type": "markdown",
   "metadata": {},
   "source": [
    "# Output Controls"
   ]
  },
  {
   "cell_type": "code",
   "execution_count": 25,
   "metadata": {},
   "outputs": [
    {
     "name": "stdout",
     "output_type": "stream",
     "text": [
      "Output control added. Model updated.\n"
     ]
    }
   ],
   "source": [
    "# Create an Output Control package\n",
    "oc = flopy.modflow.ModflowOc(mf, stress_period_data={(0, 0): ['save head', 'print budget']})\n",
    "\n",
    "# Save the model with the new package added\n",
    "mf.write_input()\n",
    "\n",
    "# Print a message\n",
    "print(\"Output control added. Model updated.\")"
   ]
  },
  {
   "cell_type": "markdown",
   "metadata": {},
   "source": [
    "# Run Model"
   ]
  },
  {
   "cell_type": "code",
   "execution_count": 26,
   "metadata": {},
   "outputs": [
    {
     "name": "stdout",
     "output_type": "stream",
     "text": [
      "FloPy is using the following executable to run the model: ..\\..\\..\\MODFLOW\\MF2005.1_12\\bin\\mf2005.exe\n",
      "\n",
      "                                  MODFLOW-2005     \n",
      "    U.S. GEOLOGICAL SURVEY MODULAR FINITE-DIFFERENCE GROUND-WATER FLOW MODEL\n",
      "                             Version 1.12.00 2/3/2017                        \n",
      "\n",
      " Using NAME file: groundwater_model.nam \n",
      " Run start date and time (yyyy/mm/dd hh:mm:ss): 2023/12/31 21:22:30\n",
      "\n",
      " Solving:  Stress period:     1    Time step:     1    Ground-Water Flow Eqn.\n",
      " Run end date and time (yyyy/mm/dd hh:mm:ss): 2023/12/31 21:22:30\n",
      " Elapsed run time:  0.018 Seconds\n",
      "\n",
      "  Normal termination of simulation\n"
     ]
    }
   ],
   "source": [
    "# Assuming you have already set up the model 'mf'\n",
    "\n",
    "# Run the model\n",
    "success, buff = mf.run_model()\n",
    "if not success:\n",
    "    raise Exception(\"MODFLOW did not terminate normally.\")"
   ]
  },
  {
   "cell_type": "markdown",
   "metadata": {},
   "source": [
    "# Visualize Results"
   ]
  },
  {
   "cell_type": "code",
   "execution_count": 28,
   "metadata": {},
   "outputs": [
    {
     "data": {
      "image/png": "[encoded data removed]",
      "text/plain": [
       "<Figure size 500x500 with 2 Axes>"
      ]
     },
     "metadata": {},
     "output_type": "display_data"
    }
   ],
   "source": [
    "# Load the model results\n",
    "headobj = flopy.utils.binaryfile.HeadFile(f'{workspace}/{modelname}.hds')\n",
    "head = headobj.get_data(totim=headobj.get_times()[-1])\n",
    "\n",
    "# Create a plot\n",
    "plt.figure(figsize=(5, 5))\n",
    "\n",
    "# Plot the hydraulic head\n",
    "plt.imshow(head[0, :, :], interpolation='nearest', cmap='viridis')\n",
    "plt.colorbar(label='Hydraulic Head (m)')\n",
    "plt.title('Hydraulic Head Distribution')\n",
    "plt.xlabel('Column')\n",
    "plt.ylabel('Row')\n",
    "plt.show()"
   ]
  }
 ],
 "metadata": {
  "kernelspec": {
   "display_name": "geopy310",
   "language": "python",
   "name": "python3"
  },
  "language_info": {
   "codemirror_mode": {
    "name": "ipython",
    "version": 3
   },
   "file_extension": ".py",
   "mimetype": "text/x-python",
   "name": "python",
   "nbconvert_exporter": "python",
   "pygments_lexer": "ipython3",
   "version": "3.10.13"
  }
 },
 "nbformat": 4,
 "nbformat_minor": 2
}
