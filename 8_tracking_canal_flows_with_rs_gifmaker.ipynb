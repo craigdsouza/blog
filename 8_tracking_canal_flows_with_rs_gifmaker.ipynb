{
 "cells": [
  {
   "cell_type": "markdown",
   "metadata": {},
   "source": [
    "## About\n",
    "use this script to make a GIF that shows canal flows using NICFI (5m) satellite imagery.<br>\n",
    "pre-requisites:\n",
    "- google earth engine access\n",
    "- nicfi imagery access (alternatively use just publicly available sentinel 2 imagery)"
   ]
  },
  {
   "cell_type": "markdown",
   "metadata": {},
   "source": [
    "## Imports"
   ]
  },
  {
   "cell_type": "code",
   "execution_count": 60,
   "metadata": {},
   "outputs": [
    {
     "data": {
      "text/html": [
       "\n",
       "            <style>\n",
       "                .geemap-dark {\n",
       "                    --jp-widgets-color: white;\n",
       "                    --jp-widgets-label-color: white;\n",
       "                    --jp-ui-font-color1: white;\n",
       "                    --jp-layout-color2: #454545;\n",
       "                    background-color: #383838;\n",
       "                }\n",
       "                    \n",
       "                .geemap-dark .jupyter-button {\n",
       "                    --jp-layout-color3: #383838;\n",
       "                }\n",
       "                \n",
       "                .geemap-colab {\n",
       "                    background-color: var(--colab-primary-surface-color, white);\n",
       "                }\n",
       "                    \n",
       "                .geemap-colab .jupyter-button {\n",
       "                    --jp-layout-color3: var(--colab-primary-surface-color, white);\n",
       "                }\n",
       "            </style>\n",
       "            "
      ],
      "text/plain": [
       "<IPython.core.display.HTML object>"
      ]
     },
     "metadata": {},
     "output_type": "display_data"
    }
   ],
   "source": [
    "import geemap\n",
    "import ee\n",
    "\n",
    "# Initialize the Earth Engine module.\n",
    "ee.Initialize()\n",
    "\n",
    "import datetime\n",
    "from dateutil.relativedelta import relativedelta\n",
    "from datetime import timedelta as delta"
   ]
  },
  {
   "cell_type": "markdown",
   "metadata": {},
   "source": [
    "## Feature & Image Collections"
   ]
  },
  {
   "cell_type": "code",
   "execution_count": 6,
   "metadata": {},
   "outputs": [
    {
     "data": {
      "text/html": [
       "\n",
       "            <style>\n",
       "                .geemap-dark {\n",
       "                    --jp-widgets-color: white;\n",
       "                    --jp-widgets-label-color: white;\n",
       "                    --jp-ui-font-color1: white;\n",
       "                    --jp-layout-color2: #454545;\n",
       "                    background-color: #383838;\n",
       "                }\n",
       "                    \n",
       "                .geemap-dark .jupyter-button {\n",
       "                    --jp-layout-color3: #383838;\n",
       "                }\n",
       "                \n",
       "                .geemap-colab {\n",
       "                    background-color: var(--colab-primary-surface-color, white);\n",
       "                }\n",
       "                    \n",
       "                .geemap-colab .jupyter-button {\n",
       "                    --jp-layout-color3: var(--colab-primary-surface-color, white);\n",
       "                }\n",
       "            </style>\n",
       "            "
      ],
      "text/plain": [
       "<IPython.core.display.HTML object>"
      ]
     },
     "metadata": {},
     "output_type": "display_data"
    }
   ],
   "source": [
    "# Image Collections\n",
    "nicfiColl = ee.ImageCollection(\"projects/planet-nicfi/assets/basemaps/asia\")\n",
    "s2Coll = ee.ImageCollection(\"COPERNICUS/S2_SR\")\n",
    "s1Coll = ee.ImageCollection(\"COPERNICUS/S1_GRD\")\n",
    "dwColl = ee.ImageCollection(\"GOOGLE/DYNAMICWORLD/V1\")\n",
    "\n",
    "# Feature Collections & Geometries\n",
    "nrbc = ee.FeatureCollection(\"projects/ee-craigdsouza/assets/canals/nrbc_d9_d18\")\n",
    "nrbcBBox = nrbc.geometry().bounds().buffer(2000)\n",
    "nrbcBuffer = nrbc.geometry().buffer(20)\n",
    "geometry = ee.Geometry.Polygon(\n",
    "        [[[76.35728463743025, 16.21064824268761],\n",
    "          [76.35728463743025, 16.198944508521084],\n",
    "          [76.38449296567732, 16.198944508521084],\n",
    "          [76.38449296567732, 16.21064824268761]]], None, False);\n"
   ]
  },
  {
   "cell_type": "markdown",
   "metadata": {},
   "source": [
    "## Visualization Params"
   ]
  },
  {
   "cell_type": "code",
   "execution_count": 7,
   "metadata": {},
   "outputs": [
    {
     "data": {
      "text/html": [
       "\n",
       "            <style>\n",
       "                .geemap-dark {\n",
       "                    --jp-widgets-color: white;\n",
       "                    --jp-widgets-label-color: white;\n",
       "                    --jp-ui-font-color1: white;\n",
       "                    --jp-layout-color2: #454545;\n",
       "                    background-color: #383838;\n",
       "                }\n",
       "                    \n",
       "                .geemap-dark .jupyter-button {\n",
       "                    --jp-layout-color3: #383838;\n",
       "                }\n",
       "                \n",
       "                .geemap-colab {\n",
       "                    background-color: var(--colab-primary-surface-color, white);\n",
       "                }\n",
       "                    \n",
       "                .geemap-colab .jupyter-button {\n",
       "                    --jp-layout-color3: var(--colab-primary-surface-color, white);\n",
       "                }\n",
       "            </style>\n",
       "            "
      ],
      "text/plain": [
       "<IPython.core.display.HTML object>"
      ]
     },
     "metadata": {},
     "output_type": "display_data"
    }
   ],
   "source": [
    "visParamsNICFI = {'bands':[\"R\",\"G\",\"B\"],'min':400,'max':2000}\n",
    "visParamsS2 = {'bands':[\"R\",\"G\",\"B\"],'min':500,'max':3500}\n",
    "\n",
    "ndwiPalette = ['fff','90bdf3','0600e8']\n",
    "visParamsW = {'bands':['NDWI'],'palette':ndwiPalette,'min':-0.5,'max':0}\n",
    "\n",
    "ndviPalette = ['f00','ff0','0f0']    #['EB2121','FBFF59','3CAE12']\n",
    "visParamsV = {'bands':['NDVI'],'palette':ndviPalette,'min':0,'max':0.6}\n",
    "\n",
    "dwPalette = ['419bdf', '397d49', '88b053', '7a87c6', 'e49635', 'dfc35a', 'c4281b','a59b8f', 'b39fe1']\n",
    "dwVis = {'bands':['label'],'palette':dwPalette,'min':0,'max':8}"
   ]
  },
  {
   "cell_type": "markdown",
   "metadata": {},
   "source": [
    "## Functions"
   ]
  },
  {
   "cell_type": "code",
   "execution_count": 8,
   "metadata": {},
   "outputs": [
    {
     "data": {
      "text/html": [
       "\n",
       "            <style>\n",
       "                .geemap-dark {\n",
       "                    --jp-widgets-color: white;\n",
       "                    --jp-widgets-label-color: white;\n",
       "                    --jp-ui-font-color1: white;\n",
       "                    --jp-layout-color2: #454545;\n",
       "                    background-color: #383838;\n",
       "                }\n",
       "                    \n",
       "                .geemap-dark .jupyter-button {\n",
       "                    --jp-layout-color3: #383838;\n",
       "                }\n",
       "                \n",
       "                .geemap-colab {\n",
       "                    background-color: var(--colab-primary-surface-color, white);\n",
       "                }\n",
       "                    \n",
       "                .geemap-colab .jupyter-button {\n",
       "                    --jp-layout-color3: var(--colab-primary-surface-color, white);\n",
       "                }\n",
       "            </style>\n",
       "            "
      ],
      "text/plain": [
       "<IPython.core.display.HTML object>"
      ]
     },
     "metadata": {},
     "output_type": "display_data"
    }
   ],
   "source": [
    "def prepND(image):\n",
    "  ndwi = image.normalizedDifference([\"G\",\"N\"])\n",
    "  ndvi = image.normalizedDifference([\"N\",\"R\"])\n",
    "  aoi = nrbcBuffer\n",
    "  ndwi = ndwi.clip(aoi).rename('NDWI') #.updateMask(mask)\n",
    "  ndvi = ndvi.clip(aoi).rename('NDVI') #.updateMask(mask)\n",
    "  return image.addBands([ndwi,ndvi]) #.updateMask(mask)"
   ]
  },
  {
   "cell_type": "code",
   "execution_count": 42,
   "metadata": {},
   "outputs": [
    {
     "data": {
      "text/html": [
       "\n",
       "            <style>\n",
       "                .geemap-dark {\n",
       "                    --jp-widgets-color: white;\n",
       "                    --jp-widgets-label-color: white;\n",
       "                    --jp-ui-font-color1: white;\n",
       "                    --jp-layout-color2: #454545;\n",
       "                    background-color: #383838;\n",
       "                }\n",
       "                    \n",
       "                .geemap-dark .jupyter-button {\n",
       "                    --jp-layout-color3: #383838;\n",
       "                }\n",
       "                \n",
       "                .geemap-colab {\n",
       "                    background-color: var(--colab-primary-surface-color, white);\n",
       "                }\n",
       "                    \n",
       "                .geemap-colab .jupyter-button {\n",
       "                    --jp-layout-color3: var(--colab-primary-surface-color, white);\n",
       "                }\n",
       "            </style>\n",
       "            "
      ],
      "text/plain": [
       "<IPython.core.display.HTML object>"
      ]
     },
     "metadata": {},
     "output_type": "display_data"
    }
   ],
   "source": [
    "# Make NICFI Canals Subset for one hydrological year\n",
    "def makeNICFISubset(year):\n",
    "  start_date = datetime.date(year, 6, 1)\n",
    "  end_date = datetime.date(year+1, 5, 1)\n",
    "\n",
    "  dates = []\n",
    "  current_date = start_date\n",
    "  while current_date <= end_date:\n",
    "    next_date = current_date + relativedelta(months=1)  #.strftime('%Y-%m-%d')\n",
    "    dates.append((current_date, next_date))\n",
    "    current_date += relativedelta(months=1)\n",
    "\n",
    "  ndColl = []\n",
    "  for i,(start,end) in enumerate(dates):\n",
    "    start = start.strftime('%Y-%m-%d') # e.g. '2022-06-01'\n",
    "    end = end.strftime('%Y-%m-%d') # e.g. '2022-07-01'\n",
    "    monthlyMosaic = nicfiColl.filterDate(start,end).first()\n",
    "    ndMosaic = prepND(monthlyMosaic)\n",
    "    ndColl.append(ndMosaic)\n",
    "  return ee.ImageCollection(ndColl)"
   ]
  },
  {
   "cell_type": "code",
   "execution_count": 118,
   "metadata": {},
   "outputs": [
    {
     "data": {
      "text/html": [
       "\n",
       "            <style>\n",
       "                .geemap-dark {\n",
       "                    --jp-widgets-color: white;\n",
       "                    --jp-widgets-label-color: white;\n",
       "                    --jp-ui-font-color1: white;\n",
       "                    --jp-layout-color2: #454545;\n",
       "                    background-color: #383838;\n",
       "                }\n",
       "                    \n",
       "                .geemap-dark .jupyter-button {\n",
       "                    --jp-layout-color3: #383838;\n",
       "                }\n",
       "                \n",
       "                .geemap-colab {\n",
       "                    background-color: var(--colab-primary-surface-color, white);\n",
       "                }\n",
       "                    \n",
       "                .geemap-colab .jupyter-button {\n",
       "                    --jp-layout-color3: var(--colab-primary-surface-color, white);\n",
       "                }\n",
       "            </style>\n",
       "            "
      ],
      "text/plain": [
       "<IPython.core.display.HTML object>"
      ]
     },
     "metadata": {},
     "output_type": "display_data"
    }
   ],
   "source": [
    "# Make Sentinel-2 Canals Subset for one hydrological year\n",
    "def makeS2Subset(year):\n",
    "    start_date = datetime.date(year, 6, 1)  #.strftime('%Y-%m-%d')\n",
    "    end_date = datetime.date(year+1, 6, 1)  #.strftime('%Y-%m-%d')\n",
    "    # list of dates from start_date to end_date\n",
    "    dates = []\n",
    "    current_date = start_date\n",
    "    while current_date <= end_date:\n",
    "      dates.append(current_date)\n",
    "      current_date += delta(days=1)\n",
    "    # print(len(dates)) #366\n",
    "\n",
    "    s2y = []\n",
    "    \n",
    "    for i in range(len(dates)-1):\n",
    "      start = dates[i].strftime('%Y-%m-%d')\n",
    "      end = dates[i+1].strftime('%Y-%m-%d')\n",
    "      subset = s2Coll.filterDate(start,end).filterBounds(geometry).select(['B4','B3','B2','B8'],['R','G','B','N'])\n",
    "      \n",
    "      if subset.size().getInfo() > 0:\n",
    "        #  print(f\"{subset.size().getInfo()} images available for {start}\")\n",
    "         dt = subset.first().get('system:time_start')\n",
    "         s2img = subset.median().set('system:time_start',dt)\n",
    "         s2y.append(s2img)\n",
    "    \n",
    "    s2y = ee.ImageCollection(s2y)\n",
    "    # print(s2y.size().getInfo()) # no more than 52\n",
    "    s2y = s2y.map(prepND)\n",
    "    return s2y"
   ]
  },
  {
   "cell_type": "code",
   "execution_count": 114,
   "metadata": {},
   "outputs": [
    {
     "data": {
      "text/html": [
       "\n",
       "            <style>\n",
       "                .geemap-dark {\n",
       "                    --jp-widgets-color: white;\n",
       "                    --jp-widgets-label-color: white;\n",
       "                    --jp-ui-font-color1: white;\n",
       "                    --jp-layout-color2: #454545;\n",
       "                    background-color: #383838;\n",
       "                }\n",
       "                    \n",
       "                .geemap-dark .jupyter-button {\n",
       "                    --jp-layout-color3: #383838;\n",
       "                }\n",
       "                \n",
       "                .geemap-colab {\n",
       "                    background-color: var(--colab-primary-surface-color, white);\n",
       "                }\n",
       "                    \n",
       "                .geemap-colab .jupyter-button {\n",
       "                    --jp-layout-color3: var(--colab-primary-surface-color, white);\n",
       "                }\n",
       "            </style>\n",
       "            "
      ],
      "text/plain": [
       "<IPython.core.display.HTML object>"
      ]
     },
     "metadata": {},
     "output_type": "display_data"
    }
   ],
   "source": [
    "# Blend NDWI canal images with basemap  \n",
    "def blendImages(image,basemap):\n",
    "  # Add visualization parameters to your image\n",
    "  ndwiPalette = ['fff','90bdf3','0600e8']\n",
    "  visParamsW = {'bands':['NDWI'],'palette':ndwiPalette,'forceRgbOutput':True,'min':-0.5,'max':0}\n",
    "  visualizedImage = image.visualize(**visParamsW).set('system:time_start',image.get('system:time_start'))\n",
    "\n",
    "  # Blend your image with the basemap\n",
    "  return basemap.blend(visualizedImage).set('system:time_start',image.get('system:time_start'))"
   ]
  },
  {
   "cell_type": "markdown",
   "metadata": {},
   "source": [
    "## Prepare Images"
   ]
  },
  {
   "cell_type": "code",
   "execution_count": 12,
   "metadata": {},
   "outputs": [
    {
     "data": {
      "text/html": [
       "\n",
       "            <style>\n",
       "                .geemap-dark {\n",
       "                    --jp-widgets-color: white;\n",
       "                    --jp-widgets-label-color: white;\n",
       "                    --jp-ui-font-color1: white;\n",
       "                    --jp-layout-color2: #454545;\n",
       "                    background-color: #383838;\n",
       "                }\n",
       "                    \n",
       "                .geemap-dark .jupyter-button {\n",
       "                    --jp-layout-color3: #383838;\n",
       "                }\n",
       "                \n",
       "                .geemap-colab {\n",
       "                    background-color: var(--colab-primary-surface-color, white);\n",
       "                }\n",
       "                    \n",
       "                .geemap-colab .jupyter-button {\n",
       "                    --jp-layout-color3: var(--colab-primary-surface-color, white);\n",
       "                }\n",
       "            </style>\n",
       "            "
      ],
      "text/plain": [
       "<IPython.core.display.HTML object>"
      ]
     },
     "metadata": {},
     "output_type": "display_data"
    }
   ],
   "source": [
    "# Dynamic World\n",
    "dw = dwColl.filterDate('2022-06-01','2023-06-01').filterBounds(nrbcBBox).mode().select('label').clip(nrbcBBox)"
   ]
  },
  {
   "cell_type": "code",
   "execution_count": 105,
   "metadata": {},
   "outputs": [
    {
     "data": {
      "text/html": [
       "\n",
       "            <style>\n",
       "                .geemap-dark {\n",
       "                    --jp-widgets-color: white;\n",
       "                    --jp-widgets-label-color: white;\n",
       "                    --jp-ui-font-color1: white;\n",
       "                    --jp-layout-color2: #454545;\n",
       "                    background-color: #383838;\n",
       "                }\n",
       "                    \n",
       "                .geemap-dark .jupyter-button {\n",
       "                    --jp-layout-color3: #383838;\n",
       "                }\n",
       "                \n",
       "                .geemap-colab {\n",
       "                    background-color: var(--colab-primary-surface-color, white);\n",
       "                }\n",
       "                    \n",
       "                .geemap-colab .jupyter-button {\n",
       "                    --jp-layout-color3: var(--colab-primary-surface-color, white);\n",
       "                }\n",
       "            </style>\n",
       "            "
      ],
      "text/plain": [
       "<IPython.core.display.HTML object>"
      ]
     },
     "metadata": {},
     "output_type": "display_data"
    }
   ],
   "source": [
    "# NICFI Canals\n",
    "nicfi_canals_2022 = makeNICFISubset(2022)"
   ]
  },
  {
   "cell_type": "code",
   "execution_count": 14,
   "metadata": {},
   "outputs": [
    {
     "data": {
      "text/html": [
       "\n",
       "            <style>\n",
       "                .geemap-dark {\n",
       "                    --jp-widgets-color: white;\n",
       "                    --jp-widgets-label-color: white;\n",
       "                    --jp-ui-font-color1: white;\n",
       "                    --jp-layout-color2: #454545;\n",
       "                    background-color: #383838;\n",
       "                }\n",
       "                    \n",
       "                .geemap-dark .jupyter-button {\n",
       "                    --jp-layout-color3: #383838;\n",
       "                }\n",
       "                \n",
       "                .geemap-colab {\n",
       "                    background-color: var(--colab-primary-surface-color, white);\n",
       "                }\n",
       "                    \n",
       "                .geemap-colab .jupyter-button {\n",
       "                    --jp-layout-color3: var(--colab-primary-surface-color, white);\n",
       "                }\n",
       "            </style>\n",
       "            "
      ],
      "text/plain": [
       "<IPython.core.display.HTML object>"
      ]
     },
     "metadata": {},
     "output_type": "display_data"
    }
   ],
   "source": [
    "# Sentinel 2 Basemap\n",
    "s2 = s2Coll.filterDate('2022-06-01','2023-06-01').filterBounds(nrbcBBox).median().select(['B4','B3','B2','B8'],['R','G','B','NIR']).clip(nrbcBBox)"
   ]
  },
  {
   "cell_type": "code",
   "execution_count": 119,
   "metadata": {},
   "outputs": [
    {
     "data": {
      "text/html": [
       "\n",
       "            <style>\n",
       "                .geemap-dark {\n",
       "                    --jp-widgets-color: white;\n",
       "                    --jp-widgets-label-color: white;\n",
       "                    --jp-ui-font-color1: white;\n",
       "                    --jp-layout-color2: #454545;\n",
       "                    background-color: #383838;\n",
       "                }\n",
       "                    \n",
       "                .geemap-dark .jupyter-button {\n",
       "                    --jp-layout-color3: #383838;\n",
       "                }\n",
       "                \n",
       "                .geemap-colab {\n",
       "                    background-color: var(--colab-primary-surface-color, white);\n",
       "                }\n",
       "                    \n",
       "                .geemap-colab .jupyter-button {\n",
       "                    --jp-layout-color3: var(--colab-primary-surface-color, white);\n",
       "                }\n",
       "            </style>\n",
       "            "
      ],
      "text/plain": [
       "<IPython.core.display.HTML object>"
      ]
     },
     "metadata": {},
     "output_type": "display_data"
    },
    {
     "name": "stdout",
     "output_type": "stream",
     "text": [
      "73\n"
     ]
    }
   ],
   "source": [
    "# Sentinel 2 Canals\n",
    "s2_canals_2022 = makeS2Subset(2022)\n",
    "print(s2_canals_2022.size().getInfo())  # takes a long time to run, for 1year approx 3.5min"
   ]
  },
  {
   "cell_type": "markdown",
   "metadata": {},
   "source": [
    "## View Layers in map"
   ]
  },
  {
   "cell_type": "code",
   "execution_count": 128,
   "metadata": {},
   "outputs": [
    {
     "data": {
      "text/html": [
       "\n",
       "            <style>\n",
       "                .geemap-dark {\n",
       "                    --jp-widgets-color: white;\n",
       "                    --jp-widgets-label-color: white;\n",
       "                    --jp-ui-font-color1: white;\n",
       "                    --jp-layout-color2: #454545;\n",
       "                    background-color: #383838;\n",
       "                }\n",
       "                    \n",
       "                .geemap-dark .jupyter-button {\n",
       "                    --jp-layout-color3: #383838;\n",
       "                }\n",
       "                \n",
       "                .geemap-colab {\n",
       "                    background-color: var(--colab-primary-surface-color, white);\n",
       "                }\n",
       "                    \n",
       "                .geemap-colab .jupyter-button {\n",
       "                    --jp-layout-color3: var(--colab-primary-surface-color, white);\n",
       "                }\n",
       "            </style>\n",
       "            "
      ],
      "text/plain": [
       "<IPython.core.display.HTML object>"
      ]
     },
     "metadata": {},
     "output_type": "display_data"
    },
    {
     "data": {
      "application/vnd.jupyter.widget-view+json": {
       "model_id": "cd64448b5f034c89baca2c2622416d34",
       "version_major": 2,
       "version_minor": 0
      },
      "text/plain": [
       "Map(center=[16.356900062746625, 76.78932755308384], controls=(WidgetControl(options=['position', 'transparent_…"
      ]
     },
     "execution_count": 128,
     "metadata": {},
     "output_type": "execute_result"
    }
   ],
   "source": [
    "# Create a map\n",
    "Map = geemap.Map()\n",
    "\n",
    "# Add the Dynamic World image to the map\n",
    "# Map.addLayer(dw, dwVis, 'Dynamic World')\n",
    "\n",
    "# Add the Sentinel 2 image to the map\n",
    "Map.addLayer(s2_canals_2022.first(), visParamsS2, 'Sentinel 2')\n",
    "\n",
    "# Add the first NICFI image to the map\n",
    "# Map.addLayer(nicfi_canals_2022.first(), visParamsW, 'NICFI Image')\n",
    "\n",
    "# Center the map at the displayed layers\n",
    "Map.centerObject(nrbcBBox, 12)\n",
    "\n",
    "# Display the map\n",
    "Map"
   ]
  },
  {
   "cell_type": "markdown",
   "metadata": {},
   "source": [
    "## Prepare GIF"
   ]
  },
  {
   "cell_type": "code",
   "execution_count": 125,
   "metadata": {},
   "outputs": [
    {
     "data": {
      "text/html": [
       "\n",
       "            <style>\n",
       "                .geemap-dark {\n",
       "                    --jp-widgets-color: white;\n",
       "                    --jp-widgets-label-color: white;\n",
       "                    --jp-ui-font-color1: white;\n",
       "                    --jp-layout-color2: #454545;\n",
       "                    background-color: #383838;\n",
       "                }\n",
       "                    \n",
       "                .geemap-dark .jupyter-button {\n",
       "                    --jp-layout-color3: #383838;\n",
       "                }\n",
       "                \n",
       "                .geemap-colab {\n",
       "                    background-color: var(--colab-primary-surface-color, white);\n",
       "                }\n",
       "                    \n",
       "                .geemap-colab .jupyter-button {\n",
       "                    --jp-layout-color3: var(--colab-primary-surface-color, white);\n",
       "                }\n",
       "            </style>\n",
       "            "
      ],
      "text/plain": [
       "<IPython.core.display.HTML object>"
      ]
     },
     "metadata": {},
     "output_type": "display_data"
    }
   ],
   "source": [
    "scale = nicfi_canals_2022.first().toFloat().projection().nominalScale()\n",
    "projection = nicfi_canals_2022.first().toFloat().projection()\n",
    "\n",
    "scaleS2 = s2_canals_2022.first().toFloat().projection().nominalScale()\n",
    "projectionS2 = s2_canals_2022.first().toFloat().projection()"
   ]
  },
  {
   "cell_type": "code",
   "execution_count": 120,
   "metadata": {},
   "outputs": [
    {
     "data": {
      "text/html": [
       "\n",
       "            <style>\n",
       "                .geemap-dark {\n",
       "                    --jp-widgets-color: white;\n",
       "                    --jp-widgets-label-color: white;\n",
       "                    --jp-ui-font-color1: white;\n",
       "                    --jp-layout-color2: #454545;\n",
       "                    background-color: #383838;\n",
       "                }\n",
       "                    \n",
       "                .geemap-dark .jupyter-button {\n",
       "                    --jp-layout-color3: #383838;\n",
       "                }\n",
       "                \n",
       "                .geemap-colab {\n",
       "                    background-color: var(--colab-primary-surface-color, white);\n",
       "                }\n",
       "                    \n",
       "                .geemap-colab .jupyter-button {\n",
       "                    --jp-layout-color3: var(--colab-primary-surface-color, white);\n",
       "                }\n",
       "            </style>\n",
       "            "
      ],
      "text/plain": [
       "<IPython.core.display.HTML object>"
      ]
     },
     "metadata": {},
     "output_type": "display_data"
    }
   ],
   "source": [
    "# Load a basemap (e.g., a Landsat image)\n",
    "basemap = s2.select(['R', 'G', 'B']).visualize(bands=['R','G','B'],min=1000,max=4000) # Adjust visualization parameters as needed\n",
    "\n",
    "# Labeling your collection of NDWI images\n",
    "labeledImages = nicfi_canals_2022.map(lambda image: blendImages(image, basemap))\n",
    "labeledImagesS2 = s2_canals_2022.map(lambda image: blendImages(image, basemap))"
   ]
  },
  {
   "cell_type": "code",
   "execution_count": 122,
   "metadata": {},
   "outputs": [
    {
     "data": {
      "text/html": [
       "\n",
       "            <style>\n",
       "                .geemap-dark {\n",
       "                    --jp-widgets-color: white;\n",
       "                    --jp-widgets-label-color: white;\n",
       "                    --jp-ui-font-color1: white;\n",
       "                    --jp-layout-color2: #454545;\n",
       "                    background-color: #383838;\n",
       "                }\n",
       "                    \n",
       "                .geemap-dark .jupyter-button {\n",
       "                    --jp-layout-color3: #383838;\n",
       "                }\n",
       "                \n",
       "                .geemap-colab {\n",
       "                    background-color: var(--colab-primary-surface-color, white);\n",
       "                }\n",
       "                    \n",
       "                .geemap-colab .jupyter-button {\n",
       "                    --jp-layout-color3: var(--colab-primary-surface-color, white);\n",
       "                }\n",
       "            </style>\n",
       "            "
      ],
      "text/plain": [
       "<IPython.core.display.HTML object>"
      ]
     },
     "metadata": {},
     "output_type": "display_data"
    },
    {
     "name": "stdout",
     "output_type": "stream",
     "text": [
      "['2022-06-05', '2022-06-10', '2022-06-15', '2022-06-20', '2022-06-25', '2022-06-30', '2022-07-05', '2022-07-10', '2022-07-15', '2022-07-20', '2022-07-25', '2022-07-30', '2022-08-04', '2022-08-09', '2022-08-14', '2022-08-19', '2022-08-24', '2022-08-29', '2022-09-03', '2022-09-08', '2022-09-13', '2022-09-18', '2022-09-23', '2022-09-28', '2022-10-03', '2022-10-08', '2022-10-13', '2022-10-18', '2022-10-23', '2022-10-28', '2022-11-02', '2022-11-07', '2022-11-12', '2022-11-17', '2022-11-22', '2022-11-27', '2022-12-02', '2022-12-07', '2022-12-12', '2022-12-17', '2022-12-22', '2022-12-27', '2023-01-01', '2023-01-06', '2023-01-11', '2023-01-16', '2023-01-21', '2023-01-26', '2023-01-31', '2023-02-05', '2023-02-10', '2023-02-15', '2023-02-20', '2023-02-25', '2023-03-02', '2023-03-07', '2023-03-12', '2023-03-17', '2023-03-22', '2023-03-27', '2023-04-01', '2023-04-06', '2023-04-11', '2023-04-16', '2023-04-21', '2023-04-26', '2023-05-01', '2023-05-06', '2023-05-11', '2023-05-16', '2023-05-21', '2023-05-26', '2023-05-31']\n"
     ]
    }
   ],
   "source": [
    "# Get the list of dates\n",
    "# dates = labeledImages.filterBounds(geometry).aggregate_array('system:time_start').getInfo()\n",
    "dates_s2 = labeledImagesS2.filterBounds(geometry).aggregate_array('system:time_start').getInfo()\n",
    "\n",
    "# Convert the dates to the desired format\n",
    "# formatted_dates = [datetime.datetime.fromtimestamp(date/1000).strftime('%B-%Y') for date in dates]\n",
    "formatted_dates = [\"June-2022\",\"July-2022\",\"August-2022\",\"September-2022\",\"October-2022\",\"November-2022\",\n",
    "                   \"December-2022\",\"January-2023\",\"February-2023\",\"March-2023\",\"April-2023\",\"May-2023\"]\n",
    "formatted_dates_s2 = [datetime.datetime.fromtimestamp(date/1000).strftime('%Y-%m-%d') for date in dates_s2]\n",
    "\n",
    "# Print the formatted dates\n",
    "# print(formatted_dates)\n",
    "print(formatted_dates_s2)"
   ]
  },
  {
   "cell_type": "code",
   "execution_count": 129,
   "metadata": {},
   "outputs": [
    {
     "data": {
      "text/html": [
       "\n",
       "            <style>\n",
       "                .geemap-dark {\n",
       "                    --jp-widgets-color: white;\n",
       "                    --jp-widgets-label-color: white;\n",
       "                    --jp-ui-font-color1: white;\n",
       "                    --jp-layout-color2: #454545;\n",
       "                    background-color: #383838;\n",
       "                }\n",
       "                    \n",
       "                .geemap-dark .jupyter-button {\n",
       "                    --jp-layout-color3: #383838;\n",
       "                }\n",
       "                \n",
       "                .geemap-colab {\n",
       "                    background-color: var(--colab-primary-surface-color, white);\n",
       "                }\n",
       "                    \n",
       "                .geemap-colab .jupyter-button {\n",
       "                    --jp-layout-color3: var(--colab-primary-surface-color, white);\n",
       "                }\n",
       "            </style>\n",
       "            "
      ],
      "text/plain": [
       "<IPython.core.display.HTML object>"
      ]
     },
     "metadata": {},
     "output_type": "display_data"
    },
    {
     "name": "stdout",
     "output_type": "stream",
     "text": [
      "111319.49079327357 {'type': 'Projection', 'crs': 'EPSG:4326', 'transform': [1, 0, 0, 0, 1, 0]}\n",
      "4.777314267160193 {'type': 'Projection', 'crs': 'EPSG:3857', 'transform': [4.777314267160193, 0, -20037508.340000007, 0, -4.777314267160193, 3522218.2628982645]}\n"
     ]
    }
   ],
   "source": [
    "print(scaleS2.getInfo(),projectionS2.getInfo())\n",
    "print(scale.getInfo(),projection.getInfo())"
   ]
  },
  {
   "cell_type": "code",
   "execution_count": 130,
   "metadata": {},
   "outputs": [
    {
     "data": {
      "text/html": [
       "\n",
       "            <style>\n",
       "                .geemap-dark {\n",
       "                    --jp-widgets-color: white;\n",
       "                    --jp-widgets-label-color: white;\n",
       "                    --jp-ui-font-color1: white;\n",
       "                    --jp-layout-color2: #454545;\n",
       "                    background-color: #383838;\n",
       "                }\n",
       "                    \n",
       "                .geemap-dark .jupyter-button {\n",
       "                    --jp-layout-color3: #383838;\n",
       "                }\n",
       "                \n",
       "                .geemap-colab {\n",
       "                    background-color: var(--colab-primary-surface-color, white);\n",
       "                }\n",
       "                    \n",
       "                .geemap-colab .jupyter-button {\n",
       "                    --jp-layout-color3: var(--colab-primary-surface-color, white);\n",
       "                }\n",
       "            </style>\n",
       "            "
      ],
      "text/plain": [
       "<IPython.core.display.HTML object>"
      ]
     },
     "metadata": {},
     "output_type": "display_data"
    }
   ],
   "source": [
    "# Set the export parameters\n",
    "export_params = {\n",
    "    'region': geometry,\n",
    "    'scale': scale, # 10m/4.777314267160193 m\n",
    "    'crs': projection, # EPSG:3857\n",
    "    'folder': 'EEImageExports',\n",
    "    'description': 'S2_Flows',\n",
    "    'framesPerSecond': 5\n",
    "}\n",
    "\n",
    "# Export the labeledImages as a video\n",
    "# ee.batch.Export.video.toDrive(labeledImages, **export_params).start()\n",
    "ee.batch.Export.video.toDrive(labeledImagesS2, **export_params).start()"
   ]
  },
  {
   "cell_type": "markdown",
   "metadata": {},
   "source": [
    "## Add labels to video"
   ]
  },
  {
   "cell_type": "code",
   "execution_count": 3,
   "metadata": {},
   "outputs": [],
   "source": [
    "import cv2\n",
    "from moviepy.editor import ImageSequenceClip\n",
    "import os"
   ]
  },
  {
   "cell_type": "code",
   "execution_count": 103,
   "metadata": {},
   "outputs": [
    {
     "data": {
      "text/html": [
       "\n",
       "            <style>\n",
       "                .geemap-dark {\n",
       "                    --jp-widgets-color: white;\n",
       "                    --jp-widgets-label-color: white;\n",
       "                    --jp-ui-font-color1: white;\n",
       "                    --jp-layout-color2: #454545;\n",
       "                    background-color: #383838;\n",
       "                }\n",
       "                    \n",
       "                .geemap-dark .jupyter-button {\n",
       "                    --jp-layout-color3: #383838;\n",
       "                }\n",
       "                \n",
       "                .geemap-colab {\n",
       "                    background-color: var(--colab-primary-surface-color, white);\n",
       "                }\n",
       "                    \n",
       "                .geemap-colab .jupyter-button {\n",
       "                    --jp-layout-color3: var(--colab-primary-surface-color, white);\n",
       "                }\n",
       "            </style>\n",
       "            "
      ],
      "text/plain": [
       "<IPython.core.display.HTML object>"
      ]
     },
     "metadata": {},
     "output_type": "display_data"
    }
   ],
   "source": [
    "# Function to add month and year to the frames\n",
    "def label_frames(video_path, output_path):\n",
    "    cap = cv2.VideoCapture(video_path)\n",
    "    if not cap.isOpened():\n",
    "        raise IOError(\"Error opening video file\")\n",
    "\n",
    "    frames = []\n",
    "    \n",
    "    for frame_num in range(12):  # Assuming 12 frames, one for each month\n",
    "        ret, frame = cap.read()\n",
    "        if not ret:\n",
    "            break\n",
    "\n",
    "        # Filter month and year\n",
    "        label = formatted_dates[frame_num]\n",
    "\n",
    "        # Add label to the frame\n",
    "        cv2.putText(frame, label, (10, 50), cv2.FONT_HERSHEY_SIMPLEX, 1, (255, 255, 255), 2, cv2.LINE_AA)\n",
    "        frames.append(frame)\n",
    "\n",
    "    cap.release()\n",
    "\n",
    "    # Compile frames into a video\n",
    "    clip = ImageSequenceClip([cv2.cvtColor(f, cv2.COLOR_BGR2RGB) for f in frames], fps=1)\n",
    "    clip.write_videofile(output_path, codec='libx264')"
   ]
  },
  {
   "cell_type": "code",
   "execution_count": null,
   "metadata": {},
   "outputs": [],
   "source": [
    "# Usage\n",
    "video_path = \"C:\\\\path\\\\to\\\\your\\\\video.mp4\"\n",
    "output_path = \"C:\\\\path\\\\to\\\\your\\\\videoLabeled.mp4\"\n",
    "label_frames(video_path, output_path)"
   ]
  }
 ],
 "metadata": {
  "kernelspec": {
   "display_name": "py310",
   "language": "python",
   "name": "python3"
  },
  "language_info": {
   "codemirror_mode": {
    "name": "ipython",
    "version": 3
   },
   "file_extension": ".py",
   "mimetype": "text/x-python",
   "name": "python",
   "nbconvert_exporter": "python",
   "pygments_lexer": "ipython3",
   "version": "3.10.13"
  }
 },
 "nbformat": 4,
 "nbformat_minor": 2
}
